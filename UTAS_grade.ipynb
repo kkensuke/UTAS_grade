{
 "cells": [
  {
   "cell_type": "code",
   "execution_count": 1,
   "metadata": {},
   "outputs": [],
   "source": [
    "from UTAS_grade import UTAS_grade"
   ]
  },
  {
   "cell_type": "code",
   "execution_count": null,
   "metadata": {},
   "outputs": [],
   "source": [
    "browser = 'Chrome' # or 'Firefox'\n",
    "student_number = '1111111111'\n",
    "password = 'asdfg12345'\n",
    "grade = UTAS_grade(browser, student_number, password)"
   ]
  },
  {
   "cell_type": "code",
   "execution_count": null,
   "metadata": {},
   "outputs": [],
   "source": [
    "grade.get_tables()\n",
    "grade.print_results()\n",
    "# It takes about 20 seconds to get the result"
   ]
  }
 ],
 "metadata": {
  "kernelspec": {
   "display_name": "venv",
   "language": "python",
   "name": "python3"
  },
  "language_info": {
   "codemirror_mode": {
    "name": "ipython",
    "version": 3
   },
   "file_extension": ".py",
   "mimetype": "text/x-python",
   "name": "python",
   "nbconvert_exporter": "python",
   "pygments_lexer": "ipython3",
   "version": "3.9.6"
  },
  "vscode": {
   "interpreter": {
    "hash": "8abc3f06f1070f0df901a4f3530a928147c56031896329eb71b788d08abbbbcf"
   }
  }
 },
 "nbformat": 4,
 "nbformat_minor": 4
}
